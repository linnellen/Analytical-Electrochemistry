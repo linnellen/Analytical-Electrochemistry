{
 "cells": [
  {
   "cell_type": "markdown",
   "id": "4e630873",
   "metadata": {},
   "source": [
    "# H<sub>2</sub>/N<sub>2</sub> EIS and file pre-processing for use with OSIF Software\n",
    "Linn Kelley<br>\n",
    "08/26/2022\n",
    "\n",
    "This script prepares different file types for use with OSIF software.\n",
    "\n",
    "H<sub>2</sub>/N<sub>2</sub> EIS is used to calculate proton transport resistance in the CCL. This is determined by fitting the impedance data with a transmission line equivalent circuit. A transmission line consists of parallel conductors that transmit electrical waves. There is capacitance between the conductors because this is true of any pair of conductors separated by a dielectric (air in the case of transmission lines). AC current in the transmission lines generates a magnetic field, and the electric flux of that field creates inductance along the wires. Inductance is proportional to the ratio of electric flux ($\\phi$) and applied current ($I$):\n",
    "<center>\n",
    "$L=\\frac{\\phi}{I}$\n",
    "</center>\n",
    "A transmission line consists of repeating units of inductance and resistance on both parallel lines, with capacitance bridging the lines between units. \n",
    "\n",
    "<img src=\"EIS guide.png\" width=\"600\">\n",
    "\n",
    "<center>\n",
    "    \n",
    "*Figure 1. Impedance response of a fuel cell with a blocked cathode. The circuit component governing the shape of each region is highlighted*\n",
    "    \n",
    "</center>\n",
    "\n",
    "The porous CCL creates the transmission line impedance response in a fuel cell as is shown in Figure 1. The depth of a pore can be considered as the length of the transmission line. For a pore, the parallel conductors of the transmission line are the electrolyte (proton conducting) phase and the carbon (electron conducting phase). Because carbon is highly conductive, the resistance in this phase is ignored. Ionic resistance in the electrolyte is the only impedance included along parallel conductors of the transmission line. The capacitance between the conductors is double layer capacitance. There is not a repeating inductance in the fuel cell model because the conductors are not wires. However, an overall cell inductance forms between the anode and cathode of the fuel cell due to electric flux between the polarized plates. Wires connected to the cell also contribute to the overall inductance. High frequency resistances are present as a single lumped resistance, not a repeating unit.\n",
    "\n",
    "During an EIS measurement, the anode is held at 0 V vs SHE, and HOR occurs. The cathode is held at a potential too high for HER to occur (usually 0.2-0.4 V vs SHE). Because N2 flows to the cathode instead of air, no ORR occurs. A small amount of H2 crossover from anode to cathode causes some HOR at the cathode and HER at the anode; however, there is essentially no reaction occurring at the cathode. As the electrochemical potential of the electrons in the cathode oscillates with applied alternating voltage, protons transport to and from the electrode surface as the double layer adjusts to the charge of the electrode. Resistance due to proton transport appears at high-medium frequencies as a 45<sup>o</sup> line seen in orange in Figure 1. Diffusion-limited or transport-limited processes are often modeled as Warburg elements which have a constant phase angle and 45<sup>o</sup> impedance response. Slopes varying from 45<sup>o</sup> are attributed to inhomogeneous ion transport properties through the CCL (typical of thicker electrodes). At lower frequencies the double layer has time to fully charge before the electrode charge changes. For this reason, proton transport resistance no longer dominates the impedance response which becomes purely capacitive. A typical impedance response would show charge transfer resistance at low frequencies because this resistance is in parallel with double layer capacitance. Because there is no charge transfer resistance in parallel with Cdl, Cdl is a break in the circuit which can’t be bypassed at low frequencies. There is minimal charge resistance associated with H2 crossover and HOR. This small resistance contributes to non-ideality of the capacitive response at low frequencies. Deviation from a vertical line is also attributed to inhomogeneous distribution of pore radii in the electrode where pore depth is inconsistent and impedance response varies between pores. Deviations become more pronounced at lower relative humidity because there is less uniform contact between catalyst pores and ionomer/water, which produces further inhomogeneities in double layer structure and ion transport properties.\n",
    "\n",
    "OSIF is an EIS data fitting software. There is a tutorial about EIS and OSIF in the Training-Tutorials section of Teams. "
   ]
  },
  {
   "cell_type": "markdown",
   "id": "84f97584",
   "metadata": {},
   "source": [
    "### Import libraries"
   ]
  },
  {
   "cell_type": "code",
   "execution_count": 17,
   "id": "701e36cb",
   "metadata": {},
   "outputs": [],
   "source": [
    "import numpy as np\n",
    "import pandas as pd\n",
    "import matplotlib.pyplot as plt\n",
    "from dta2df import dta"
   ]
  },
  {
   "cell_type": "markdown",
   "id": "40ebf0f7",
   "metadata": {},
   "source": [
    "### Import files"
   ]
  },
  {
   "cell_type": "code",
   "execution_count": 18,
   "id": "9372d912",
   "metadata": {},
   "outputs": [],
   "source": [
    "df_txt = pd.read_csv('Sample text file.txt',delimiter='\\t',index_col=False)\n",
    "df_dta = dta('Sample dta file.DTA',98)"
   ]
  },
  {
   "cell_type": "markdown",
   "id": "cba1a73e",
   "metadata": {},
   "source": [
    "### osifprep and osifprep_dta inputs\n",
    "df: dataframe<br> \n",
    "path: path to folder where the new file will be saved<br> \n",
    "hf & lf: high and low frequency, the function trims the data to this frequency range, these limits can be used to remove noise<br> \n",
    "name: name of the new file <br> \n",
    "\n",
    "### osifprep and osifprep_dta returns\n",
    "a file ready for use with OSIF software"
   ]
  },
  {
   "cell_type": "code",
   "execution_count": 32,
   "id": "6e0f5650",
   "metadata": {},
   "outputs": [],
   "source": [
    "def osifprep(df,path,hf,lf,name):\n",
    "\n",
    "    cut = df[(df['Zfreq']<hf) & (df['Zfreq']>lf)]\n",
    "    dfc = cut[['Zfreq','Zreal','Zimag']].copy()\n",
    "    dfc.reset_index(inplace=True)\n",
    "    del dfc['index']\n",
    "    dfc['Z (\\u03A9)']=np.sqrt(np.add(np.square(dfc['Zreal']),np.square(dfc['Zimag'])))\n",
    "    dfc = dfc.rename(columns={'Zfreq':'Frequency (Hz)','Zreal':'Z\\' (\\u03A9)','Zimag':'Z\\'\\' (\\u03A9)'})\n",
    "    plt.plot(cut['Zreal'],-cut['Zimag'])\n",
    "    plt.xlabel('Z$_{real}$ m$\\u03A9$cm$^2$')\n",
    "    plt.ylabel('-Z$_{im}$ m$\\u03A9$cm$^2$')\n",
    "    dfc.to_csv(path+name+'.txt', sep='\\t',header=True)\n",
    "    \n",
    "def osifprep_dta(df,path,hf,lf,name):\n",
    "    \n",
    "    cut = df[(df['Freq']<hf) & (df['Freq']>lf)]\n",
    "    dfc = cut[['Freq','Zreal','Zimag']].copy()\n",
    "    dfc.reset_index(inplace=True)\n",
    "    del dfc['index']\n",
    "    dfc['Z (\\u03A9)']=np.sqrt(np.add(np.square(dfc['Zreal']),np.square(dfc['Zimag'])))\n",
    "    dfc = dfc.rename(columns={'Freq':'Frequency (Hz)','Zreal':'Z\\' (\\u03A9)','Zimag':'Z\\'\\' (\\u03A9)'})\n",
    "    plt.plot(cut['Zreal'],-cut['Zimag'])\n",
    "    plt.xlabel('Z$_{real}$ m$\\u03A9$cm$^2$')\n",
    "    plt.ylabel('-Z$_{im}$ m$\\u03A9$cm$^2$')\n",
    "    dfc.to_csv(name+'.txt', sep='\\t',header=True)"
   ]
  },
  {
   "cell_type": "markdown",
   "id": "12d77a55",
   "metadata": {},
   "source": [
    "### Example use"
   ]
  },
  {
   "cell_type": "code",
   "execution_count": 33,
   "id": "97019011",
   "metadata": {},
   "outputs": [
    {
     "data": {
      "image/png": "[encoded data removed]",
      "text/plain": [
       "<Figure size 432x288 with 1 Axes>"
      ]
     },
     "metadata": {
      "needs_background": "light"
     },
     "output_type": "display_data"
    }
   ],
   "source": [
    "osifprep(df_txt,'saved images/',20000,1,'txt test')"
   ]
  },
  {
   "cell_type": "code",
   "execution_count": 34,
   "id": "8ff2a557",
   "metadata": {
    "scrolled": true
   },
   "outputs": [
    {
     "data": {
      "image/png": "[encoded data removed]",
      "text/plain": [
       "<Figure size 432x288 with 1 Axes>"
      ]
     },
     "metadata": {
      "needs_background": "light"
     },
     "output_type": "display_data"
    }
   ],
   "source": [
    "osifprep_dta(df_dta,'saved images/',60000,3,'dta test')"
   ]
  },
  {
   "cell_type": "markdown",
   "id": "39f39e49",
   "metadata": {},
   "source": [
    "Happy fitting!"
   ]
  }
 ],
 "metadata": {
  "kernelspec": {
   "display_name": "Python 3 (ipykernel)",
   "language": "python",
   "name": "python3"
  },
  "language_info": {
   "codemirror_mode": {
    "name": "ipython",
    "version": 3
   },
   "file_extension": ".py",
   "mimetype": "text/x-python",
   "name": "python",
   "nbconvert_exporter": "python",
   "pygments_lexer": "ipython3",
   "version": "3.9.7"
  }
 },
 "nbformat": 4,
 "nbformat_minor": 5
}
