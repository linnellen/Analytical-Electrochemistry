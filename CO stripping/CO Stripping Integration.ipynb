{
 "cells": [
  {
   "cell_type": "markdown",
   "id": "c6ef42b6",
   "metadata": {},
   "source": [
    "# CO Stripping Integration\n",
    "Linn Kelley<br>\n",
    "08/26/2022\n",
    "\n",
    "This script calculates electrochemically active surface area (ECSA) for a catalyst using the CO stripping method.\n",
    "\n",
    "CO stripping is used to measure catalyst accessibility (ECSA). CO has a high affinity for Pt and will displace other adsorbed species on catalyst particles. CO stripping is performed using a cyclic voltammogram (CV) with multiple cycles between 0 V and 1 V vs RHE after a CO monolayer forms on the catalyst surface. CO is oxidized off of the catalyst surface between 0.5 and 0.9 V during the first anodic sweep (and in small amounts during the following anodic sweeps):<br>\n",
    "<center>\n",
    "$CO^*+H_2O\\rightleftharpoons CO_2+2H^++2e^-$<br>\n",
    "</center>\n",
    "The characteristic surface charge expended to oxidize CO is 420 µC/cm<sup>2</sup> which is used to convert integrated charge to ECSA. This is calculated by integrating the first oxidation peak with respect to time: \n",
    "<center>\n",
    "$Q=\\int Idt$\n",
    "</center>\n",
    "It is important to bound the left side of the peak at the capacitive baseline current observed in subsequent CV cycles. The right side of the peak should be bound on the right side of the oxidation peak prior to the broad peak corresponding to Pt oxide formation. The function integrates between the first and second CV cycles. \n",
    "\n",
    "### Import libraries"
   ]
  },
  {
   "cell_type": "code",
   "execution_count": 1,
   "id": "e6c5bead",
   "metadata": {},
   "outputs": [],
   "source": [
    "import pandas as pd\n",
    "import numpy as np\n",
    "import matplotlib.pyplot as plt\n",
    "%matplotlib qt"
   ]
  },
  {
   "cell_type": "markdown",
   "id": "18c291b9",
   "metadata": {},
   "source": [
    "### Import file"
   ]
  },
  {
   "cell_type": "code",
   "execution_count": 2,
   "id": "5874760c",
   "metadata": {},
   "outputs": [],
   "source": [
    "co = pd.read_csv('Sample CO stripping file.txt',delimiter='\\t',header=14)"
   ]
  },
  {
   "cell_type": "markdown",
   "id": "e35330f3",
   "metadata": {},
   "source": [
    "### Add a time column to the dataframe \n",
    "If your file does not have a time column, use the addtime function. \n",
    "addtime has two inputs, a dataframe (df) and the interval at which data points were collected (nu). The data collection rate can be found by opening your text file in Notepad and dividing 1/Waveform Rate (Hz)."
   ]
  },
  {
   "cell_type": "code",
   "execution_count": 3,
   "id": "0b8324e8",
   "metadata": {},
   "outputs": [],
   "source": [
    "def addtime(df,nu):\n",
    "    time = []\n",
    "    for i in range(len(df)):\n",
    "        t=i*nu\n",
    "        time.append(t)\n",
    "    df['Time']=time \n",
    "        \n",
    "addtime(co,0.01)"
   ]
  },
  {
   "cell_type": "markdown",
   "id": "964e5897",
   "metadata": {},
   "source": [
    "### co_stripping inputs\n",
    "df: dataframe with voltage, current, and time column<br>\n",
    "c: color<br>\n",
    "v_max: maximum voltage of CV (V)\n",
    "xlim: x-limits of the plot in format [x1,x2]<br>\n",
    "ylim: y-limits of the plot in format [y1,y2]<br>\n",
    "title: title of the plot and how the image will be saved<br>\n",
    "area: cell area (cm<sup>2</sup>)<br>\n",
    "CL: catalyst loading (mg<sub>Pt</sub>/cm<sup>2</sup>)<br>\n",
    "\n",
    "The function requires user selection of the left and right side of the integration region. The user should select these points in the order:<br>\n",
    "1. Left side of oxidation peak\n",
    "2. Right side of oxidation peak\n",
    "\n",
    "<img src=\"CO guide.png\" width=\"600\">\n",
    "\n",
    "When the mapping image pops up, the magnifying glass can be used to zoom in as needed while selecting points. The home button will bring user back to the original image. Hover the mouse over the desired point and press the space bar to select a point. A red X will appear on the point. To erase the point and try again, press the backspace or delete key. When both points have been selected, press the enter key to continue. "
   ]
  },
  {
   "cell_type": "markdown",
   "id": "a1ff5932",
   "metadata": {},
   "source": [
    "### co_stripping returns\n",
    "[q,ecsa]<br>\n",
    "q: integrated charge (mC/cm<sup>2</sup>)<br>\n",
    "ecsa: ECSA (m<sup>2</sup>/g<sub>Pt</sub>)"
   ]
  },
  {
   "cell_type": "markdown",
   "id": "acfb0b2e",
   "metadata": {},
   "source": [
    "### co_stripping function"
   ]
  },
  {
   "cell_type": "code",
   "execution_count": 4,
   "id": "ee3040c6",
   "metadata": {},
   "outputs": [],
   "source": [
    "def co_stripping(df,c,v_max,xlim,ylim,title,area,CL):\n",
    "    \n",
    "    # CV data is plotted and user specifies integration points. \n",
    "    plt.plot(df['Volts'],df['Amps']*(1000/area),color=c)\n",
    "    plt.xlim(xlim)\n",
    "    plt.ylim(ylim)\n",
    "    plt.title(title)\n",
    "    plt.xlabel('Cell Voltage (V vs SHE)')\n",
    "    plt.ylabel('Current Density (mA/cm$^2$)')\n",
    "    pts = plt.ginput(n=-1,timeout=-1,mouse_add=None,mouse_pop=None,mouse_stop=None)\n",
    "    \n",
    "    # The data indicies closest to the selected points are recorded in the variable ind. \n",
    "    ind = []\n",
    "    right_bound = np.where(v_max-df['Volts']<0.005)[0][0]\n",
    "    points = list(zip(df['Volts'][:right_bound],df['Amps'][:right_bound]*1000/area))\n",
    "    def distance(a,b):\n",
    "        return(sum([(k[0]-k[1])**2 for k in zip(a,b)])**0.5)\n",
    "    for i,pt in enumerate(pts):\n",
    "        dists = [distance([pt[0], pt[1]],k) for k in points]\n",
    "        ind.append(dists.index(min(dists)))\n",
    "        \n",
    "    # The voltage, time, and current columns are trimmed to the integration region.    \n",
    "    v = df['Volts'][ind[0]:ind[1]+1]\n",
    "    t = df['Time'][ind[0]:ind[1]+1]\n",
    "    j = df['Amps'][ind[0]:ind[1]+1]*1000/area\n",
    "    \n",
    "    # The integration region is selected for the second CV cycle.\n",
    "    post_peak = np.where(df['Volts']>df['Volts'][ind[1]])   \n",
    "    for i in range(len(post_peak[0])):\n",
    "        if (post_peak[0][i+1]-post_peak[0][i])!=1:\n",
    "            cycle = post_peak[0][i+1]-1-ind[1]\n",
    "            break           \n",
    "    j2 = df['Amps'][ind[0]+cycle:ind[1]+cycle+1]*1000/area\n",
    "    \n",
    "    # The peak is integrated between the first and second CV cycles.\n",
    "    g_pt = CL*area/1000\n",
    "    q = round((np.trapz(j,t) - np.trapz(j2,t)),2)    \n",
    "    ecsa = round((np.trapz(j,t) - np.trapz(j2,t))*area/(1000*420e-6*10000*g_pt),2)\n",
    "    print(q)\n",
    "    print(ecsa)\n",
    "    \n",
    "    # The integration region is shaded and the figure is saved.\n",
    "    plt.fill_between(v,j2,j,color=c,alpha=0.5)\n",
    "    plt.savefig(title+'.png',format='png')\n",
    "    return q,ecsa"
   ]
  },
  {
   "cell_type": "markdown",
   "id": "461bc4f9",
   "metadata": {},
   "source": [
    "### Example use"
   ]
  },
  {
   "cell_type": "code",
   "execution_count": 5,
   "id": "c142cda3",
   "metadata": {},
   "outputs": [
    {
     "name": "stdout",
     "output_type": "stream",
     "text": [
      "42.79\n",
      "38.59\n"
     ]
    }
   ],
   "source": [
    "s = co_stripping(co,'mediumblue',1,[0,1.1],[-5,35],'test',50,0.264)"
   ]
  },
  {
   "cell_type": "code",
   "execution_count": 6,
   "id": "e4fdb4dd",
   "metadata": {},
   "outputs": [
    {
     "data": {
      "text/plain": [
       "(42.79, 38.59)"
      ]
     },
     "execution_count": 6,
     "metadata": {},
     "output_type": "execute_result"
    }
   ],
   "source": [
    "s"
   ]
  },
  {
   "cell_type": "markdown",
   "id": "c91ba0c7",
   "metadata": {},
   "source": [
    "CO-stripping integration requires a little CO-llaboration!"
   ]
  }
 ],
 "metadata": {
  "kernelspec": {
   "display_name": "Python 3 (ipykernel)",
   "language": "python",
   "name": "python3"
  },
  "language_info": {
   "codemirror_mode": {
    "name": "ipython",
    "version": 3
   },
   "file_extension": ".py",
   "mimetype": "text/x-python",
   "name": "python",
   "nbconvert_exporter": "python",
   "pygments_lexer": "ipython3",
   "version": "3.9.12"
  }
 },
 "nbformat": 4,
 "nbformat_minor": 5
}
