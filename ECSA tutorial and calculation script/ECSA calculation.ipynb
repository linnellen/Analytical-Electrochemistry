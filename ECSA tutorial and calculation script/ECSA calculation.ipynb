{
 "cells": [
  {
   "cell_type": "markdown",
   "id": "d73e558d",
   "metadata": {},
   "source": [
    "# Electrochemically Active Surface Area (ECSA) Calculation\n",
    "Linn Kelley<br>\n",
    "08/13/2022<br>\n",
    "\n",
    "This script calculates ECSA for a catalyst using the hydrogen underpotential deposition (H<sub>upd</sub>) method.\n",
    "\n",
    "Prior to onset of HER (at potentials positive of the equilibrium voltage), protons are adsorbed onto Pt catalyst surface and reduced to form a metal-hydrogen bond:\n",
    "<center>\n",
    "    $H^{+}+M+e^{-}\\rightleftharpoons MH_{ads}$\n",
    "</center>\n",
    "To find the electrochemically active surface area of a Pt catalyst, a CV from a potential just positive of the standard reduction potential of H<sup>+</sup> (0 V vs RHE) to 1 V will show peaks corresponding to the adsorption and desorption of H<sup>+</sup> on Pt. The adsorption peak corresponds to a negative reduction current and the desorption peak corresponds to a positive oxidation current. The total charge of adsorbed ions can be calculated by integrating the adsorption peak current with respect to time:\n",
    "<center>\n",
    "$Q=\\int Idt$\n",
    "</center>\n",
    "The literature value of surface charge density for H<sup>+</sup> on Pt is 210 µC/cm<sup>2</sup> which is used to convert the integrated charge to ECSA. The CV is collected with H<sub>2</sub> flowed to the anode and inert N<sub>2</sub> flowed to the cathode so the ORR will not interfere with the adsorption and desorption peaks. All CVs have a capacitive baseline current which is current due to the non-Faradaic process of double layer charging. This current should not be included while integrating. The adsorption peak is often larger than the desorption peak due to a small amount of HER onset (reduction of H<sup>+</sup> to form H<sub>2</sub>) and is the more accurate choice for calculating ECSA. It is important to bound the adsorption peak integration prior to the onset of HER. \n",
    "<img src=\"ECSA integration.png\" width=\"600\">\n",
    "This technique is best used for measuring the surface area of Pt-only catalysts; however, it can still be used for Pt-alloy catalysts. The presence of an alloy in the catalyst will make the characteristic peaks of H<sup>+</sup> adsorption less distinct, and the boundary between H<sup>+</sup> adsorption and HER can be hard to recognize. In this case it is best to set the integration boundary at a certain voltage, usually 80 mV. \n"
   ]
  },
  {
   "cell_type": "markdown",
   "id": "f0cf58fc",
   "metadata": {},
   "source": [
    "### Import libraries"
   ]
  },
  {
   "cell_type": "code",
   "execution_count": 15,
   "id": "0d1a2326",
   "metadata": {},
   "outputs": [],
   "source": [
    "import os\n",
    "import pandas as pd\n",
    "import numpy as np\n",
    "import matplotlib.pyplot as plt\n",
    "import tkinter as tk\n",
    "from tkinter import simpledialog\n",
    "from scipy.signal import argrelextrema\n",
    "%matplotlib qt"
   ]
  },
  {
   "cell_type": "markdown",
   "id": "0d2d4af0",
   "metadata": {},
   "source": [
    "### Import file"
   ]
  },
  {
   "cell_type": "code",
   "execution_count": 16,
   "id": "b3c73e3a",
   "metadata": {},
   "outputs": [],
   "source": [
    "ecsa = pd.read_csv('Sample ECSA file.txt',delimiter='\\t',header=14)"
   ]
  },
  {
   "cell_type": "markdown",
   "id": "69f12eec",
   "metadata": {},
   "source": [
    "### Add a time column to the dataframe \n",
    "If your file does not have a time column, use the addtime function. \n",
    "addtime has two inputs, a dataframe (df) and the interval at which data points were collected (nu). The data collection rate can be found by opening your text file in Notepad and dividing 1/Waveform Rate (Hz)."
   ]
  },
  {
   "cell_type": "code",
   "execution_count": 17,
   "id": "2472d472",
   "metadata": {},
   "outputs": [],
   "source": [
    "def addtime(df,nu):\n",
    "    time = []\n",
    "    for i in range(len(df)):\n",
    "        t=i*nu\n",
    "        time.append(t)\n",
    "    df['Time']=time \n",
    "        \n",
    "addtime(ecsa,0.01)"
   ]
  },
  {
   "cell_type": "markdown",
   "id": "6324e25d",
   "metadata": {},
   "source": [
    "### ecsa_integration inputs\n",
    "Inputs to ECSA function<br>\n",
    "df: dataframe with a voltage, current, and time column<br>\n",
    "rng: indices of the last CV cycle in the format: list(range(start_index, end_index)). Use the plot below to find the indices of the desired cycle<br>\n",
    "pos_l: text with calculated ECSA will appear on the plot, this is the y-position of the bottom of the text<br>\n",
    "title: title of the plot and how the image will be saved<br>\n",
    "cell_area: cm<sup>2</sup><br>\n",
    "CL: catalyst loading, mg<sub>Pt</sub>/cm<sup>2</sup>\n",
    "\n",
    "The function requires several user inputs. The first is point mapping in a pop-up window; user will select four points:<br>\n",
    "1. Left of the desorption peak<br>\n",
    "2. Right of the desorption peak<br>\n",
    "3. Right of the adsorption peak<br>\n",
    "4. Left of the adsorption peak<br>\n",
    "\n",
    "<img src=\"ECSA mapping points.png\" width=\"600\">\n",
    "\n",
    "When the mapping image pops up, the magnifying glass can be used to zoom in as needed while selecting points. The home button will bring user back to the original image. Hover the mouse over the desired point and press the space bar to select a point. A red X will appear on the point. To erase the point and try again, press the backspace or delete key. When all four points have been selected, press the enter key to continue. \n",
    "\n",
    "The next input allows the user to decide if they would like to bound the integration at a certain voltage or let the function detect the edge of the peak. It is recommended to specify a voltage for alloyed catalysts where the adsorption region does not have a distinct boundary with the HER. If the user selects to specify a voltage, they will then be asked to specify a voltage limit for both the upper and lower integrations. The final input allows the user to decide whether or not to plot mapped points. "
   ]
  },
  {
   "cell_type": "markdown",
   "id": "28635e61",
   "metadata": {},
   "source": [
    "### Plot to find indices"
   ]
  },
  {
   "cell_type": "code",
   "execution_count": 18,
   "id": "5c8ff9f4",
   "metadata": {
    "scrolled": true
   },
   "outputs": [
    {
     "data": {
      "text/plain": [
       "[<matplotlib.lines.Line2D at 0x206711f4c40>]"
      ]
     },
     "execution_count": 18,
     "metadata": {},
     "output_type": "execute_result"
    }
   ],
   "source": [
    "start_index = 13801\n",
    "end_index = 18400\n",
    "plt.plot(ecsa['Volts'][start_index:end_index],ecsa['Amps'][start_index:end_index])"
   ]
  },
  {
   "cell_type": "markdown",
   "id": "9633774d",
   "metadata": {},
   "source": [
    "### ecsa_integration function"
   ]
  },
  {
   "cell_type": "code",
   "execution_count": 19,
   "id": "288bb525",
   "metadata": {},
   "outputs": [],
   "source": [
    "def ecsa_integration(df,rng,pos_l,title,cell_area,CL):\n",
    "    # CV data is plotted and user specifies integration points.\n",
    "    x_ecsa = np.array(df['Volts'][rng].tolist()) \n",
    "    y_ecsa = np.array(df['Amps'][rng].tolist())*(1000/cell_area) \n",
    "    t_ecsa = np.array(df['Time'][rng].tolist())        \n",
    "    mins = np.array(argrelextrema(y_ecsa, np.less)).T \n",
    "    maxs = np.array(argrelextrema(y_ecsa, np.greater)).T \n",
    "    plt.plot(x_ecsa,y_ecsa)\n",
    "    pts = plt.ginput(n=-1,timeout=-1,mouse_add=None,mouse_pop=None,mouse_stop=None)\n",
    "    \n",
    "    # The data indicies closest to the selected points are recorded in the variable ind.\n",
    "    ind = []\n",
    "    points = list(zip(x_ecsa,y_ecsa))\n",
    "    def distance(a,b):\n",
    "        return(sum([(k[0]-k[1])**2 for k in zip(a,b)])**0.5)\n",
    "    for i,pt in enumerate(pts):\n",
    "        dists = [distance([pt[0], pt[1]],k) for k in points]\n",
    "        ind.append(dists.index(min(dists)))\n",
    "    \n",
    "    # User specifies integration preference.\n",
    "    ROOT = tk.Tk()\n",
    "    ROOT.withdraw()\n",
    "    A = simpledialog.askstring(title=\"Test\",prompt=\"Set left integration bound at a specified voltage or edge of first peak? (v/e)\")\n",
    "    if A=='v':\n",
    "        ROOT = tk.Tk()\n",
    "        ROOT.withdraw()\n",
    "        v_up = simpledialog.askfloat(title=\"Test\",prompt=\"Specify voltage for upper integration (V, do not add units)\")\n",
    "        v_down = simpledialog.askfloat(title=\"Test\",prompt=\"Specify voltage for lower integration (V, do not add units)\")\n",
    "        up_d = np.where(np.abs(np.subtract(x_ecsa[ind[0]:ind[1]],v_up))==min(np.abs(np.subtract(x_ecsa[ind[0]:ind[1]],v_up))))[0][0]+ind[0]\n",
    "        d_d = np.where(np.abs(np.subtract(x_ecsa[ind[2]:ind[3]],v_down))==min(np.abs(np.subtract(x_ecsa[ind[2]:ind[3]],v_down))))[0][0]+ind[2]\n",
    "    if A=='e':\n",
    "        up_d = int(mins[0])\n",
    "        d_d = int(maxs[-1])\n",
    "    \n",
    "    # Integration regions are defined. \n",
    "    up_l = np.where(y_ecsa==min(y_ecsa[ind[0]:ind[1]]))[0][0]\n",
    "    d_l = np.where(y_ecsa==max(y_ecsa[ind[2]:ind[3]]))[0][0]\n",
    "    upx = [x_ecsa[up_d],x_ecsa[up_l]] \n",
    "    upy = [y_ecsa[up_l],y_ecsa[up_l]] \n",
    "    dx = [x_ecsa[d_l],x_ecsa[d_d]] \n",
    "    dy = [y_ecsa[d_l],y_ecsa[d_l]]\n",
    "    x_up = x_ecsa[up_d:up_l+1] \n",
    "    y_up = y_ecsa[up_d:up_l+1] \n",
    "    t_up = t_ecsa[up_d:up_l+1] \n",
    "    x_d = x_ecsa[d_l:d_d+1] \n",
    "    y_d = y_ecsa[d_l:d_d+1]\n",
    "    t_d = t_ecsa[d_l:d_d+1]\n",
    "    line_up = np.interp(x_up,upx,upy) \n",
    "    line_d = np.interp(x_d,dx,dy) \n",
    "\n",
    "    # Integration regions are outlined and colored. \n",
    "    plt.figure()\n",
    "    plt.plot(x_ecsa,y_ecsa,'dodgerblue')\n",
    "    plt.fill_between(x_up,line_up,y_up,color='firebrick')\n",
    "    plt.fill_between(x_d,line_d,y_d,color='gold')\n",
    "    plt.plot(x_up,line_up,'k')\n",
    "    plt.plot(x_d,line_d,'k')\n",
    "    plt.vlines(upx[0],upy[0],y_ecsa[up_d],'k')\n",
    "    plt.vlines(dx[1],dy[0],y_ecsa[d_d],'k')\n",
    "    plt.plot(x_up,y_up,'k')\n",
    "    plt.plot(x_d,y_d,'k')\n",
    "    plt.plot(x_ecsa[up_d],y_ecsa[up_d],'x',color='mediumblue')\n",
    "    plt.plot(x_ecsa[up_l],y_ecsa[up_l],'x',color='mediumblue')\n",
    "    plt.plot(x_ecsa[d_d],y_ecsa[d_d],'x',color='mediumblue')\n",
    "    plt.plot(x_ecsa[d_l],y_ecsa[d_l],'x',color='mediumblue')\n",
    "    plt.xlabel('Potential (V vs SHE)')\n",
    "    plt.ylabel('Current Density (mA/cm$^2$)')\n",
    "    plt.title(title)\n",
    "    \n",
    "    # User specifies mapped points preference. \n",
    "    ROOT = tk.Tk()\n",
    "    ROOT.withdraw()\n",
    "    a = simpledialog.askstring(title=\"Test\",prompt=\"Do you want to plot mapped points? (Yes/No):\")\n",
    "    \n",
    "    if (a=='Yes') or (a=='yes'):\n",
    "        plt.plot(x_ecsa[ind[0]],y_ecsa[ind[0]],'*',color='k')\n",
    "        plt.plot(x_ecsa[ind[1]],y_ecsa[ind[1]],'*',color='k')\n",
    "        plt.plot(x_ecsa[ind[2]],y_ecsa[ind[2]],'*',color='k')\n",
    "        plt.plot(x_ecsa[ind[3]],y_ecsa[ind[3]],'*',color='k')\n",
    "        if A=='v':\n",
    "            plt.axvline(x=v_up)\n",
    "            plt.axvline(x=v_down)\n",
    "    \n",
    "    # Peaks are integrated and the figure is saved.\n",
    "    g_pt = CL*cell_area/1000\n",
    "    a_upper = (np.trapz(y_up,t_up) - np.trapz(line_up,t_up))/(1000*210E-6) # cm^2 Pt/cm^2\n",
    "    a_lower = np.abs((np.trapz(y_d,t_d) - np.trapz(line_d,t_d))/(1000*210E-6))\n",
    "    ma_upper = a_upper*cell_area/(10000*g_pt)# m^2 Pt/g Pt\n",
    "    ma_lower = a_lower*cell_area/(10000*g_pt)\n",
    "    plt.text(0.2,pos_l,'ECSA upper: ' + str(round(ma_upper,2)) + ' m$^2_{Pt}$/g$_{Pt}$ \\nECSA upper: ' + str(round(a_upper,2)) + ' cm$^2_{Pt}$/cm$^2$ \\nECSA lower: ' + str(round(ma_lower,2)) + ' m$^2_{Pt}$/g$_{Pt}$ \\nECSA lower: ' + str(round(a_lower,2)) + ' cm$^2_{Pt}$/cm$^2$')\n",
    "    plt.savefig(title+'.svg',format='svg')"
   ]
  },
  {
   "cell_type": "markdown",
   "id": "2c7d0bc2",
   "metadata": {},
   "source": [
    "### Example use of ecsa_integration function"
   ]
  },
  {
   "cell_type": "code",
   "execution_count": 20,
   "id": "b5359798",
   "metadata": {},
   "outputs": [],
   "source": [
    "ecsa_integration(ecsa,list(range(13801,18400)),-28,'ECSA test',50,0.253)"
   ]
  },
  {
   "cell_type": "markdown",
   "id": "f490a7f1",
   "metadata": {},
   "source": [
    "Happy integrating! "
   ]
  }
 ],
 "metadata": {
  "kernelspec": {
   "display_name": "Python 3 (ipykernel)",
   "language": "python",
   "name": "python3"
  },
  "language_info": {
   "codemirror_mode": {
    "name": "ipython",
    "version": 3
   },
   "file_extension": ".py",
   "mimetype": "text/x-python",
   "name": "python",
   "nbconvert_exporter": "python",
   "pygments_lexer": "ipython3",
   "version": "3.9.7"
  }
 },
 "nbformat": 4,
 "nbformat_minor": 5
}
