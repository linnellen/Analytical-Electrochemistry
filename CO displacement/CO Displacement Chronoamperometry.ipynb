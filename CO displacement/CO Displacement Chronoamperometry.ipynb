{
 "cells": [
  {
   "cell_type": "markdown",
   "id": "f3044d28",
   "metadata": {},
   "source": [
    "# CO Displacement Chronoamperometry\n",
    "Linn Kelley<br>\n",
    "08/17/2022<br>\n",
    "\n",
    "This script calculates displaced charge for a CO displacement chronoamperometry (CA) experiment.\n",
    "\n",
    "CO has a high affinity for Pt and will displace other adsorbed species on catalyst particles. During a displacement experiment, the cathode is held at a potential which results in either a positive or negative catalyst surface charge. This causes the adsorption of different charged species. The catalyst becomes negatively charged when held at low potentials which causes the adsorption of cations. Cations are displaced with the introduction of CO which corresponds to an oxidative current as the metal-ion bond is broken. The catalyst becomes positively charged when held at high potentials and adsorbs anions which produce a reductive current when displaced by CO. The total charge of the species displaced by CO can be found by integrating the oxidation/reduction peak associated with displacement with respect to time. This technique is primarily used to measure ionomer coverage on catalysts. Ionomer contains negatively charged sulfonate groups, so coverage is best measured at a potential where the catalyst has a positive surface charge but CO oxidation does not occurr. CO is oxidized at potentials greater than 0.4 V on Pt ionomer coverage measurements are best made at 0.4 V:<br>\n",
    "<center>\n",
    "$CO+\\frac{1}{2}O_2\\rightleftharpoons CO_2$<br>\n",
    "</center>\n",
    "After CO is introduced to displace surface species, it is stripped off the catalyst using cyclic voltammogram. The CO stripping charge (Q<sub>CO</sub>) and the displacement charge from the corresponding CO displacement experiment (q<sub>dis</sub>) are used to calculate sulfonate coverage according to the following equation:<br>\n",
    "<center>\n",
    "$\\theta_{Sulfonate}=\\frac{2*q_{dis}}{Q_{CO}}$\n",
    "</center>\n",
    "CO oxidation is a 2-electron process while CO displacement is a 1-electron process so a stoichiometric coefficient of 2 is used in the calculation.\n",
    "\n",
    "### Import libraries"
   ]
  },
  {
   "cell_type": "code",
   "execution_count": 1,
   "id": "7d4dc23e",
   "metadata": {},
   "outputs": [],
   "source": [
    "import pandas as pd\n",
    "import numpy as np\n",
    "import matplotlib.pyplot as plt\n",
    "import tkinter as tk\n",
    "%matplotlib qt"
   ]
  },
  {
   "cell_type": "markdown",
   "id": "e96433c5",
   "metadata": {},
   "source": [
    "### Import file"
   ]
  },
  {
   "cell_type": "code",
   "execution_count": 2,
   "id": "6911dc05",
   "metadata": {},
   "outputs": [],
   "source": [
    "disp = pd.read_csv('Sample CO displacement file.txt',delimiter='\\t',header=14)"
   ]
  },
  {
   "cell_type": "markdown",
   "id": "efaa5223",
   "metadata": {},
   "source": [
    "### Add a time column to the dataframe \n",
    "If your file does not have a time column, use the addtime function. \n",
    "addtime has two inputs, a dataframe (df) and the interval at which data points were collected (nu). The data collection rate can be found by opening your text file in Notepad and dividing 1/Waveform Rate (Hz)."
   ]
  },
  {
   "cell_type": "code",
   "execution_count": 3,
   "id": "c6a2f68e",
   "metadata": {},
   "outputs": [],
   "source": [
    "def addtime(df,nu):\n",
    "    time = []\n",
    "    for i in range(len(df)):\n",
    "        t=i*nu\n",
    "        time.append(t)\n",
    "    df['Time']=time \n",
    "        \n",
    "addtime(disp,0.01)"
   ]
  },
  {
   "cell_type": "markdown",
   "id": "47a07524",
   "metadata": {},
   "source": [
    "### co_displacement inputs\n",
    "df: dataframe with voltage, current, and time column<br>\n",
    "c: color\n",
    "title: title of the plot and how the image will be saved<br>\n",
    "area: cell area (cm<sup>2</sup><br>)\n",
    "CL: catalyst loading, mg<sub>Pt</sub>/cm<sup>2</sup><br>\n",
    "\n",
    "The function requires user selection of the left and right side of the integration region. The user should select these points in the order:<br>\n",
    "1. Left side of displacement peak\n",
    "2. Right side of displacement peak\n",
    "\n",
    "<img src=\"CO disp mapping points.png\" width=\"600\">\n",
    "\n",
    "When the mapping image pops up, the magnifying glass can be used to zoom in as needed while selecting points. The home button will bring user back to the original image. Hover the mouse over the desired point and press the space bar to select a point. A red X will appear on the point. To erase the point and try again, press the backspace or delete key. When both points have been selected, press the enter key to continue. "
   ]
  },
  {
   "cell_type": "markdown",
   "id": "dac7eea9",
   "metadata": {},
   "source": [
    "### co_displacement returns\n",
    "q: integrated charge (mC/cm<sup>2</sup>)"
   ]
  },
  {
   "cell_type": "markdown",
   "id": "ececfd40",
   "metadata": {},
   "source": [
    "### co_displacement function"
   ]
  },
  {
   "cell_type": "code",
   "execution_count": 9,
   "id": "a261cd8e",
   "metadata": {},
   "outputs": [],
   "source": [
    "def co_displacement(df,c,title,area):\n",
    "    \n",
    "    # Displacement data is plotted and user specifies integration points. \n",
    "    plt.plot(df['Time'],df['Amps']*1000/area,color=c)\n",
    "    pts = plt.ginput(n=-1,timeout=-1,mouse_add=None,mouse_pop=None,mouse_stop=None)\n",
    "    \n",
    "    # The data indicies closest to the selected points are recorded in the variable ind.\n",
    "    ind = []   \n",
    "    points = list(zip(df['Time'],df['Amps']*1000/area))\n",
    "    def distance(a,b):\n",
    "        return(sum([(k[0]-k[1])**2 for k in zip(a,b)])**0.5)\n",
    "    for i,pt in enumerate(pts):\n",
    "        dists = [distance([pt[0], pt[1]],k) for k in points]\n",
    "        ind.append(dists.index(min(dists)))\n",
    "    \n",
    "    # The time and current columns are trimmed to the integration region.\n",
    "    # A line is created between the selected points.\n",
    "    t = df['Time'][ind[0]:ind[1]+1]\n",
    "    j = df['Amps'][ind[0]:ind[1]+1]*1000/area\n",
    "    t_array = [t[ind[0]],t[ind[1]]]    \n",
    "    j_array = [j[ind[0]],j[ind[1]]]\n",
    "    y_line = np.interp(t,t_array,j_array)\n",
    "    plt.plot(t,y_line,color=c)\n",
    "    \n",
    "    # The integration region is shaded and the figure is saved.\n",
    "    plt.fill_between(t,y_line,j,color=c,alpha=0.5)   \n",
    "    q = round((np.trapz(j,t) - np.trapz(y_line,t)),2)  \n",
    "    plt.savefig(title+'.png',format='png',dpi=150)\n",
    "    print(q)\n",
    "    return q   "
   ]
  },
  {
   "cell_type": "markdown",
   "id": "0ff9ccdb",
   "metadata": {},
   "source": [
    "### Example use"
   ]
  },
  {
   "cell_type": "code",
   "execution_count": 10,
   "id": "1687385a",
   "metadata": {},
   "outputs": [
    {
     "name": "stdout",
     "output_type": "stream",
     "text": [
      "-2.72\n"
     ]
    }
   ],
   "source": [
    "q = co_displacement(disp,'mediumblue','test',50)"
   ]
  },
  {
   "cell_type": "code",
   "execution_count": 11,
   "id": "fdab4232",
   "metadata": {},
   "outputs": [
    {
     "data": {
      "text/plain": [
       "-2.72"
      ]
     },
     "execution_count": 11,
     "metadata": {},
     "output_type": "execute_result"
    }
   ],
   "source": [
    "q"
   ]
  },
  {
   "cell_type": "markdown",
   "id": "ff2daae3",
   "metadata": {},
   "source": [
    "Happy integrating!"
   ]
  }
 ],
 "metadata": {
  "kernelspec": {
   "display_name": "Python 3 (ipykernel)",
   "language": "python",
   "name": "python3"
  },
  "language_info": {
   "codemirror_mode": {
    "name": "ipython",
    "version": 3
   },
   "file_extension": ".py",
   "mimetype": "text/x-python",
   "name": "python",
   "nbconvert_exporter": "python",
   "pygments_lexer": "ipython3",
   "version": "3.9.7"
  }
 },
 "nbformat": 4,
 "nbformat_minor": 5
}
