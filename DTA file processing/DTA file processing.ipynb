{
 "cells": [
  {
   "cell_type": "markdown",
   "id": "67d98b79",
   "metadata": {},
   "source": [
    "# Convert a .dta file into a dataframe\n",
    "Linn Kelley and Colby Smith<br>\n",
    "08/13/2022<br>\n",
    "\n",
    "### Import libraries"
   ]
  },
  {
   "cell_type": "code",
   "execution_count": 1,
   "id": "e62e95da",
   "metadata": {},
   "outputs": [],
   "source": [
    "import pandas as pd"
   ]
  },
  {
   "cell_type": "markdown",
   "id": "77a88414",
   "metadata": {},
   "source": [
    "### dta inputs\n",
    "Inputs:<br>\n",
    "file: .dta file<br>\n",
    "num: number of lines before column headers, found by opening the file in Notepad. The column headers are in the row containing Pt, T, Vf, Im, etc. Click on the row above this and note the number next to Ln in the bottom right.<br>"
   ]
  },
  {
   "cell_type": "markdown",
   "id": "509ad4a1",
   "metadata": {},
   "source": [
    "### dta returns\n",
    "Returns:<br>\n",
    "dataframe of the file"
   ]
  },
  {
   "cell_type": "markdown",
   "id": "70cdf15d",
   "metadata": {},
   "source": [
    "### dta function"
   ]
  },
  {
   "cell_type": "code",
   "execution_count": 2,
   "id": "d143e557",
   "metadata": {},
   "outputs": [],
   "source": [
    "def dta(file,num):\n",
    "    df = pd.read_table(file,skiprows=num,delimiter='\\t',header=0,encoding='ISO-8859-1')\n",
    "    df = df.drop(columns='Unnamed: 0')\n",
    "    if 'Over' in df:\n",
    "        df = df.drop(columns='Over')\n",
    "    df = df.drop(labels=0, axis=0)\n",
    "    df = df.reset_index(drop=True)\n",
    "    inds = []\n",
    "    for i in range(len(df['Pt'])):\n",
    "        if df['Pt'][i]=='TABLE':\n",
    "            inds.append(i)\n",
    "            inds.append(i+1)\n",
    "            inds.append(i+2)\n",
    "    df = df.drop(df.index[inds])\n",
    "    \n",
    "    df = df.reset_index()\n",
    "    del df['index']\n",
    "    \n",
    "    df = df.astype(float)\n",
    "    return df"
   ]
  },
  {
   "cell_type": "markdown",
   "id": "d4a74d5b",
   "metadata": {},
   "source": [
    "### Example use of dta function"
   ]
  },
  {
   "cell_type": "code",
   "execution_count": 5,
   "id": "025b32a7",
   "metadata": {},
   "outputs": [
    {
     "data": {
      "text/html": [
       "<div>\n",
       "<style scoped>\n",
       "    .dataframe tbody tr th:only-of-type {\n",
       "        vertical-align: middle;\n",
       "    }\n",
       "\n",
       "    .dataframe tbody tr th {\n",
       "        vertical-align: top;\n",
       "    }\n",
       "\n",
       "    .dataframe thead th {\n",
       "        text-align: right;\n",
       "    }\n",
       "</style>\n",
       "<table border=\"1\" class=\"dataframe\">\n",
       "  <thead>\n",
       "    <tr style=\"text-align: right;\">\n",
       "      <th></th>\n",
       "      <th>Pt</th>\n",
       "      <th>T</th>\n",
       "      <th>Vf</th>\n",
       "      <th>Im</th>\n",
       "      <th>Vu</th>\n",
       "      <th>Sig</th>\n",
       "      <th>Ach</th>\n",
       "      <th>IERange</th>\n",
       "      <th>Temp</th>\n",
       "    </tr>\n",
       "  </thead>\n",
       "  <tbody>\n",
       "    <tr>\n",
       "      <th>0</th>\n",
       "      <td>0.0</td>\n",
       "      <td>0.02</td>\n",
       "      <td>0.050577</td>\n",
       "      <td>-0.305095</td>\n",
       "      <td>0.0</td>\n",
       "      <td>0.050</td>\n",
       "      <td>-0.000144</td>\n",
       "      <td>12.0</td>\n",
       "      <td>-327.63</td>\n",
       "    </tr>\n",
       "    <tr>\n",
       "      <th>1</th>\n",
       "      <td>1.0</td>\n",
       "      <td>0.04</td>\n",
       "      <td>0.051522</td>\n",
       "      <td>-0.277373</td>\n",
       "      <td>0.0</td>\n",
       "      <td>0.051</td>\n",
       "      <td>-0.005588</td>\n",
       "      <td>12.0</td>\n",
       "      <td>-327.63</td>\n",
       "    </tr>\n",
       "    <tr>\n",
       "      <th>2</th>\n",
       "      <td>2.0</td>\n",
       "      <td>0.06</td>\n",
       "      <td>0.052486</td>\n",
       "      <td>-0.257756</td>\n",
       "      <td>0.0</td>\n",
       "      <td>0.052</td>\n",
       "      <td>0.000028</td>\n",
       "      <td>12.0</td>\n",
       "      <td>-327.63</td>\n",
       "    </tr>\n",
       "    <tr>\n",
       "      <th>3</th>\n",
       "      <td>3.0</td>\n",
       "      <td>0.08</td>\n",
       "      <td>0.053500</td>\n",
       "      <td>-0.239475</td>\n",
       "      <td>0.0</td>\n",
       "      <td>0.053</td>\n",
       "      <td>-0.000748</td>\n",
       "      <td>12.0</td>\n",
       "      <td>-327.63</td>\n",
       "    </tr>\n",
       "    <tr>\n",
       "      <th>4</th>\n",
       "      <td>4.0</td>\n",
       "      <td>0.10</td>\n",
       "      <td>0.054458</td>\n",
       "      <td>-0.224479</td>\n",
       "      <td>0.0</td>\n",
       "      <td>0.054</td>\n",
       "      <td>-0.005574</td>\n",
       "      <td>12.0</td>\n",
       "      <td>-327.63</td>\n",
       "    </tr>\n",
       "  </tbody>\n",
       "</table>\n",
       "</div>"
      ],
      "text/plain": [
       "    Pt     T        Vf        Im   Vu    Sig       Ach  IERange    Temp\n",
       "0  0.0  0.02  0.050577 -0.305095  0.0  0.050 -0.000144     12.0 -327.63\n",
       "1  1.0  0.04  0.051522 -0.277373  0.0  0.051 -0.005588     12.0 -327.63\n",
       "2  2.0  0.06  0.052486 -0.257756  0.0  0.052  0.000028     12.0 -327.63\n",
       "3  3.0  0.08  0.053500 -0.239475  0.0  0.053 -0.000748     12.0 -327.63\n",
       "4  4.0  0.10  0.054458 -0.224479  0.0  0.054 -0.005574     12.0 -327.63"
      ]
     },
     "execution_count": 5,
     "metadata": {},
     "output_type": "execute_result"
    }
   ],
   "source": [
    "x = dta('Sample dta file.DTA',66)\n",
    "x.head()"
   ]
  },
  {
   "cell_type": "markdown",
   "id": "980924bb",
   "metadata": {},
   "source": [
    ".dta won't waste your time today!"
   ]
  }
 ],
 "metadata": {
  "kernelspec": {
   "display_name": "Python 3 (ipykernel)",
   "language": "python",
   "name": "python3"
  },
  "language_info": {
   "codemirror_mode": {
    "name": "ipython",
    "version": 3
   },
   "file_extension": ".py",
   "mimetype": "text/x-python",
   "name": "python",
   "nbconvert_exporter": "python",
   "pygments_lexer": "ipython3",
   "version": "3.9.7"
  }
 },
 "nbformat": 4,
 "nbformat_minor": 5
}
